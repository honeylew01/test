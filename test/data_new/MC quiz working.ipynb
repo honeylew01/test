{
 "cells": [
  {
   "cell_type": "code",
   "execution_count": 1,
   "metadata": {},
   "outputs": [],
   "source": [
    "import numpy as np\n",
    "import pylab as plt"
   ]
  },
  {
   "cell_type": "markdown",
   "metadata": {},
   "source": [
    "# Estimate integral"
   ]
  },
  {
   "cell_type": "code",
   "execution_count": null,
   "metadata": {},
   "outputs": [
    {
     "name": "stdout",
     "output_type": "stream",
     "text": [
      "I =  6.3066646776771105\n"
     ]
    }
   ],
   "source": [
    "#estimate integral from x=-1 to 1, y=-1 to 1 of e^sin(x^2 + y^2)^2 dx dy using monte carlo\n",
    "\n",
    "N = 100000\n",
    "\n",
    "#generate random points in the square\n",
    "x = np.random.uniform(-1,1,N)\n",
    "y = np.random.uniform(-1,1,N)\n",
    "\n",
    "f = np.exp(np.sin(x**2 + y**2)**2)\n",
    "\n",
    "I = 4*np.mean(f) #4 is the area of the square, 2x2\n",
    "\n",
    "print(\"I = \", I)"
   ]
  },
  {
   "cell_type": "code",
   "execution_count": null,
   "metadata": {},
   "outputs": [],
   "source": [
    "# estimate integral from x=-2 to 2, y=-1 to 1 of e^sin(x^2 + y^2)^2 dx dy using monte carlo\n",
    "\n",
    "N = 100000\n",
    "\n",
    "x = np.random.uniform(-2,2,N)\n",
    "y = np.random.uniform(-1,1,N)\n",
    "\n",
    "f = np.exp(np.sin(x**2 + y**2)**2)\n",
    "\n",
    "I = 8*np.mean(f) # area = (2-(-2))*(1-(-1)) = 8"
   ]
  },
  {
   "cell_type": "code",
   "execution_count": null,
   "metadata": {},
   "outputs": [
    {
     "name": "stdout",
     "output_type": "stream",
     "text": [
      "I =  7.576477672811939\n"
     ]
    }
   ],
   "source": [
    "#estimate the integral from -1 to 5 of e^sin(3x) dx using monte carlo\n",
    "\n",
    "N = 100000\n",
    "\n",
    "x = np.random.uniform(-1,5,N)\n",
    "\n",
    "f = np.exp(np.sin(3*x))\n",
    "\n",
    "I = 6*np.mean(f) #6 is the length, 6x1\n",
    "\n",
    "print(\"I = \", I)"
   ]
  },
  {
   "cell_type": "code",
   "execution_count": null,
   "metadata": {},
   "outputs": [
    {
     "name": "stdout",
     "output_type": "stream",
     "text": [
      "1.8107655390540014\n",
      "Estimated integral: 1.810828164951511\n"
     ]
    }
   ],
   "source": [
    "#estimate integral from -inf to inf e^(-x^4) dx using monte carlo\n",
    "N = 1_000_000\n",
    "\n",
    "Us = np.random.uniform(0, 1, size = N)\n",
    "Xs = np.log(Us / (1 - Us))\n",
    "\n",
    "samples = np.exp(-Xs**4)*(1./Us + 1./(1.-Us)) # only this will change due to the function asked\n",
    "Q_hat = np.mean(samples)\n",
    "\n",
    "print(Q_hat)"
   ]
  },
  {
   "cell_type": "markdown",
   "metadata": {},
   "source": [
    "# Estimate sd"
   ]
  },
  {
   "cell_type": "code",
   "execution_count": null,
   "metadata": {},
   "outputs": [
    {
     "name": "stdout",
     "output_type": "stream",
     "text": [
      "I =  0.6581834625533687\n"
     ]
    }
   ],
   "source": [
    "# estimate the standard deviation of the random variable Xe^-u where X is N(0,1) \n",
    "# and u is U(0,1) are independent\n",
    "\n",
    "N = 1000000\n",
    "\n",
    "x = np.random.randn(N)    #note: randn is standard normal\n",
    "u = np.random.rand(N)     #note: rand is uniform\n",
    "\n",
    "f = x*np.exp(-u)\n",
    "\n",
    "I = np.std(f)\n",
    "\n",
    "print(\"I = \", I)"
   ]
  },
  {
   "cell_type": "markdown",
   "metadata": {},
   "source": [
    "# estimate volume"
   ]
  },
  {
   "cell_type": "code",
   "execution_count": null,
   "metadata": {},
   "outputs": [
    {
     "name": "stdout",
     "output_type": "stream",
     "text": [
      "I =  1.71472\n"
     ]
    }
   ],
   "source": [
    "#estimate the volume of the region in R^3 defined by x^2 + 2y^2 + 3z^2 <=1 using monte carlo\n",
    "\n",
    "N = 100000\n",
    "\n",
    "#generate random points in the cube\n",
    "#cube chosen to contain the ellipsoid\n",
    "x = np.random.uniform(-1,1,N)\n",
    "y = np.random.uniform(-1,1,N)\n",
    "z = np.random.uniform(-1,1,N)\n",
    "\n",
    "'''\n",
    "standard ellipsoid form: x^2/a^2 + y^2/b^2 + z^2/c^2 = 1\n",
    "this means |x| <= sqrt1, |y| <= sqrt1/2, |z| <= sqrt1/3\n",
    "'''\n",
    "\n",
    "f = (x**2 + 2*y**2 + 3*z**2 <=1)\n",
    "\n",
    "I = 8*np.mean(f) #8 is the volume of the cube\n",
    "\n",
    "print(\"I = \", I)"
   ]
  },
  {
   "cell_type": "markdown",
   "metadata": {},
   "source": [
    "# estimate z"
   ]
  },
  {
   "cell_type": "code",
   "execution_count": null,
   "metadata": {},
   "outputs": [
    {
     "name": "stdout",
     "output_type": "stream",
     "text": [
      "I =  10.241092759997905\n"
     ]
    }
   ],
   "source": [
    "#consider the density proportional to (2+sin(x^2+y^2))/Z on the region -1<=x,y<=1. \n",
    "# estimate Z using monte carlo\n",
    "\n",
    "N = 100000\n",
    "\n",
    "x = np.random.uniform(-1,1,N)\n",
    "y = np.random.uniform(-1,1,N)\n",
    "\n",
    "f = (2+np.sin(x**2 + y**2))\n",
    "\n",
    "I = 4*np.mean(f) #4 is the area of the square\n",
    "\n",
    "print(\"I = \", I)"
   ]
  },
  {
   "cell_type": "markdown",
   "metadata": {},
   "source": [
    "# estimate probability"
   ]
  },
  {
   "cell_type": "code",
   "execution_count": null,
   "metadata": {},
   "outputs": [
    {
     "name": "stdout",
     "output_type": "stream",
     "text": [
      "I =  0.05773\n"
     ]
    }
   ],
   "source": [
    "#consider 2 independent random variable X ~ N(0,1) and Y ~ N(0,1). \n",
    "# estimate the probability that |X-Y| < 0.1 using monte carlo\n",
    "\n",
    "N = 100000\n",
    "\n",
    "x = np.random.randn(N) #from N(0,1)\n",
    "y = np.random.randn(N)\n",
    "\n",
    "f = (np.abs(x-y) < 0.1)\n",
    "\n",
    "I = np.mean(f)\n",
    "\n",
    "print(\"I = \", I)"
   ]
  },
  {
   "cell_type": "code",
   "execution_count": null,
   "metadata": {},
   "outputs": [
    {
     "name": "stdout",
     "output_type": "stream",
     "text": [
      "I =  0.11201\n"
     ]
    }
   ],
   "source": [
    "#when flipping a fair coin 50 times, estimate the probability of getting \n",
    "# 25 heads using monte carlo\n",
    "N = 100000\n",
    "\n",
    "x = np.random.randint(0,2,(N,50)) #0,2 means 0 or 1\n",
    "\n",
    "# nx50 matrix of 0s and 1s, each row is a sequence of 50 coin flips\n",
    "\n",
    "f = np.sum(x, axis=1) == 25\n",
    "\n",
    "I = np.mean(f)\n",
    "\n",
    "print(\"I = \", I)"
   ]
  },
  {
   "cell_type": "code",
   "execution_count": null,
   "metadata": {},
   "outputs": [
    {
     "name": "stdout",
     "output_type": "stream",
     "text": [
      "I =  0.12504\n"
     ]
    }
   ],
   "source": [
    "# consider a biased coin that falls heads with probability 0.6. If i flip this coin 20 \n",
    "# times, estimate the probability of observing at least 15 heads\n",
    "N = 100000\n",
    "\n",
    "x = np.random.rand(N,20) < 0.6 #head if less than 0.6 using uniform distribution\n",
    "\n",
    "f = np.sum(x, axis=1) >= 15\n",
    "\n",
    "I = np.mean(f)\n",
    "print(\"I = \", I)"
   ]
  },
  {
   "cell_type": "code",
   "execution_count": null,
   "metadata": {},
   "outputs": [
    {
     "name": "stdout",
     "output_type": "stream",
     "text": [
      "I =  0.00463\n",
      "0.02315\n"
     ]
    }
   ],
   "source": [
    "# a biased 6-sided die is such that the face k appears with probability proportional \n",
    "# to k. what is the probability of observing 3 sixes in a row\n",
    "N = 100000\n",
    "\n",
    "# Define the probabilities for each die face\n",
    "probs = np.array([1, 2, 3, 4, 5, 6]) / 21  # Normalize so that the sum is 1\n",
    "\n",
    "# Function to simulate a biased die roll\n",
    "def biased_roll():\n",
    "    return np.random.choice([1, 2, 3, 4, 5, 6], p=probs)\n",
    "\n",
    "# Simulate the die rolls\n",
    "results = np.array([[biased_roll(), biased_roll(), biased_roll()] for _ in range(N)])\n",
    "\n",
    "# Check how often all 3 rolls are sixes\n",
    "f = np.all(results == 6, axis=1)\n",
    "\n",
    "# Estimate the probability of getting 3 sixes in a row\n",
    "I = np.mean(f)\n",
    "print(I)"
   ]
  },
  {
   "cell_type": "code",
   "execution_count": null,
   "metadata": {},
   "outputs": [
    {
     "name": "stdout",
     "output_type": "stream",
     "text": [
      "0.36727\n"
     ]
    }
   ],
   "source": [
    "# consider a random permutation (x1,x2,x3,x4,x5) of the numbers (1,2,3,4,5). \n",
    "# estimate the probability that this random permutation has no fixed points using monte carlo\n",
    "N = 100000\n",
    "\n",
    "# Function to check if a permutation is a derangement (no fixed points)\n",
    "def is_derangement(perm):\n",
    "    return np.all(perm != np.arange(1, 6))\n",
    "\n",
    "# Run the Monte Carlo\n",
    "derangements = [is_derangement(np.random.permutation(5) + 1) for _ in range(N)]\n",
    "\n",
    "# Estimate the probability of a derangement\n",
    "I = np.mean(derangements)\n",
    "print(I)"
   ]
  },
  {
   "cell_type": "code",
   "execution_count": null,
   "metadata": {},
   "outputs": [
    {
     "name": "stdout",
     "output_type": "stream",
     "text": [
      "I =  0.30463\n"
     ]
    }
   ],
   "source": [
    "#2 friends agree to meet between 12 and 1. each arrives at a random time \n",
    "# uniformly distributed and independently between 12 and 1. estimate the probability \n",
    "# that they meet using monte carlo given that both will only wait for 10 minutes\n",
    "N = 100000\n",
    "\n",
    "x = np.random.rand(N,2) #rand gives uniform in [0,1]\n",
    "\n",
    "f = np.abs(x[:,0] - x[:,1]) < 1/6 #abs diff in time < 10 minutes\n",
    "\n",
    "#estimate the integral\n",
    "I = np.mean(f)\n",
    "\n",
    "print(\"I = \", I)\n",
    "\n",
    "\n",
    "#if 12 and 2 instead\n",
    "N = 100000\n",
    "\n",
    "x = 2*np.random.rand(N,2) #2*[0,1]\n",
    "#number in front is the difference in hours\n",
    "\n",
    "f = np.abs(x[:,0] - x[:,1]) < 1/6 #abs diff in time < 10 minutes\n",
    "\n",
    "I = np.mean(f)\n",
    "\n",
    "print(\"I = \", I)"
   ]
  },
  {
   "cell_type": "code",
   "execution_count": null,
   "metadata": {},
   "outputs": [
    {
     "name": "stdout",
     "output_type": "stream",
     "text": [
      "I =  0.14078\n"
     ]
    }
   ],
   "source": [
    "#let U1, U2 ... U10 be 10 independent random variables uniformly distributed on [0,1]. \n",
    "# estimate the probability that the sum of these random variables is less than 4\n",
    "\n",
    "N = 100000\n",
    "\n",
    "x = np.random.rand(N,10) #rand for uniform, randn for normal\n",
    "#uniform [0,1] means equal probability to get a number between 0 and 1\n",
    "# normal [0,1] means higher probability to get a number close to 0 because mean is 0\n",
    "\n",
    "f = np.sum(x, axis=1) < 4\n",
    "\n",
    "I = np.mean(f)\n",
    "\n",
    "print(\"I = \", I)"
   ]
  },
  {
   "cell_type": "markdown",
   "metadata": {},
   "source": [
    "# estimate correlation"
   ]
  },
  {
   "cell_type": "code",
   "execution_count": null,
   "metadata": {},
   "outputs": [
    {
     "name": "stdout",
     "output_type": "stream",
     "text": [
      "I =  0.7297767775524899\n"
     ]
    }
   ],
   "source": [
    "#x~N(0,1), y~N(0,1) both independent. U = x + sin(y) and V = e^(sin(x+y)). \n",
    "# estimate the correlation between U and V using monte carlo\n",
    "N = 100000\n",
    "\n",
    "x = np.random.randn(N)\n",
    "y = np.random.randn(N)\n",
    "\n",
    "U = x + np.sin(y)\n",
    "V = np.exp(np.sin(x+y))\n",
    "\n",
    "I = np.corrcoef(U,V)[0,1]    #function computes the correlation matrix, we want the off-diagonal element\n",
    "#correlation between U and V\n",
    "\n",
    "print(\"I = \", I)"
   ]
  },
  {
   "cell_type": "markdown",
   "metadata": {},
   "source": [
    "# estimate E(N)"
   ]
  },
  {
   "cell_type": "code",
   "execution_count": null,
   "metadata": {},
   "outputs": [
    {
     "name": "stdout",
     "output_type": "stream",
     "text": [
      "I =  2.71837\n"
     ]
    }
   ],
   "source": [
    "#consider and iid sequence of random variables U1,U2... uniformly distributed on [0,1]. \n",
    "# define N as the smallest integer such that U1+U2+...+UN >1. estimate E[N] using monte carlo\n",
    "N = 100000\n",
    "\n",
    "x = np.random.rand(N,1000)\n",
    "\n",
    "f = np.argmax(np.cumsum(x, axis=1) > 1, axis=1) + 1\n",
    "# argmax returns the index of the first True value in the array which is the first time the sum exceeds 1\n",
    "\n",
    "I = np.mean(f)\n",
    "print(\"I = \", I)"
   ]
  },
  {
   "cell_type": "code",
   "execution_count": null,
   "metadata": {},
   "outputs": [
    {
     "name": "stdout",
     "output_type": "stream",
     "text": [
      "I =  0.6624976129671575\n"
     ]
    }
   ],
   "source": [
    "# let P and Q be 2 points uniformly distributed on the unit cube. call D the \n",
    "# distance between P and Q. Estimate E[D] using monte carlo\n",
    "N = 100000\n",
    "\n",
    "x = np.random.rand(N,3) #P\n",
    "y = np.random.rand(N,3) #Q\n",
    "\n",
    "f = np.sqrt(np.sum((x-y)**2, axis=1))\n",
    "\n",
    "I = np.mean(f)\n",
    "print(\"I = \", I)"
   ]
  },
  {
   "cell_type": "markdown",
   "metadata": {},
   "source": [
    "# estimate var of N"
   ]
  },
  {
   "cell_type": "code",
   "execution_count": null,
   "metadata": {},
   "outputs": [
    {
     "name": "stdout",
     "output_type": "stream",
     "text": [
      "I =  0.7711059456000001\n"
     ]
    }
   ],
   "source": [
    "#consider and iid sequence of random variables U1,U2... uniformly distributed on [0,1]. \n",
    "# define N as the smallest integer such that U1+U2+...+UN >1. estimate variance of N using monte carlo\n",
    "N = 100000\n",
    "\n",
    "x = np.random.rand(N,1000)\n",
    "\n",
    "f = np.argmax(np.cumsum(x, axis=1) > 1, axis=1) + 1\n",
    "\n",
    "I = np.var(f)\n",
    "print(\"I = \", I)"
   ]
  }
 ],
 "metadata": {
  "kernelspec": {
   "display_name": "Python 3",
   "language": "python",
   "name": "python3"
  },
  "language_info": {
   "codemirror_mode": {
    "name": "ipython",
    "version": 3
   },
   "file_extension": ".py",
   "mimetype": "text/x-python",
   "name": "python",
   "nbconvert_exporter": "python",
   "pygments_lexer": "ipython3",
   "version": "3.12.9"
  }
 },
 "nbformat": 4,
 "nbformat_minor": 2
}
