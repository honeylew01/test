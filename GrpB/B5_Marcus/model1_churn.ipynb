{
  "cells": [
    {
      "cell_type": "code",
      "execution_count": 1,
      "metadata": {
        "id": "Ji-yUDsVF3yW"
      },
      "outputs": [],
      "source": [
        "import pandas as pd\n",
        "from sklearn.linear_model import LogisticRegression\n",
        "from sklearn.model_selection import train_test_split, GridSearchCV, cross_val_score\n",
        "from sklearn.ensemble import RandomForestClassifier\n",
        "from sklearn.metrics import accuracy_score, recall_score,precision_score, f1_score\n",
        "from imblearn.over_sampling import SMOTE\n"
      ]
    },
    {
      "cell_type": "code",
      "execution_count": null,
      "metadata": {
        "colab": {
          "base_uri": "https://localhost:8080/"
        },
        "id": "3tbxowZ9Extv",
        "outputId": "93efad74-3d59-4b6b-ed1f-d234b0efe05b"
      },
      "outputs": [
        {
          "name": "stdout",
          "output_type": "stream",
          "text": [
            "Mounted at /content/drive\n",
            "\n",
            "Class Percentages:\n",
            " Exited\n",
            "0    79.63\n",
            "1    20.37\n",
            "Name: count, dtype: float64\n"
          ]
        }
      ],
      "source": [
        "file_url = \"https://github.com/Yihe-Harry/DSA3101-Group-Project/tree/Subgroup-B/GrpB_models/B5_Marcus/Churn_Modelling.csv\"\n",
        "\n",
        "df = pd.read_csv(file_url)\n",
        "df = df.drop(columns=['RowNumber','CustomerId','Surname'])\n",
        "#print(df.head())\n",
        "\n",
        "df= pd.get_dummies(df,columns=[\"Geography\",\"Gender\"],drop_first=True)\n",
        "#print(df.head())\n",
        "\n",
        "label_counts = df['Exited'].value_counts()\n",
        "total_samples = len(df)\n",
        "class_percentages = (label_counts / total_samples) * 100\n",
        "print(\"\\nClass Percentages:\\n\", class_percentages)\n",
        "\n",
        "\n",
        "x = df.drop(columns='Exited')\n",
        "y = df['Exited']\n",
        "\n",
        "\n",
        "x_train, x_test, y_train, y_test = train_test_split(x,y,test_size=0.2,random_state=3101)"
      ]
    },
    {
      "cell_type": "markdown",
      "metadata": {
        "id": "HXPY1jgzYcEa"
      },
      "source": [
        "# Log regression"
      ]
    },
    {
      "cell_type": "code",
      "execution_count": 15,
      "metadata": {
        "colab": {
          "base_uri": "https://localhost:8080/"
        },
        "id": "oU5UrzWQY0Dx",
        "outputId": "581f1150-a33d-4522-dc9a-3bc71a04aa60"
      },
      "outputs": [
        {
          "name": "stdout",
          "output_type": "stream",
          "text": [
            "Fitting 10 folds for each of 30 candidates, totalling 300 fits\n",
            "{'C': 10, 'max_iter': 500, 'penalty': 'l1', 'solver': 'liblinear'}\n",
            "Best cross-validation accuracy: 0.2124\n",
            "0.8185\n",
            "0.22305764411027568\n",
            "0.3290203327171904\n"
          ]
        }
      ],
      "source": [
        "param_grid = {\n",
        "    'C': [ 0.01, 0.1, 1, 10, 100],  # inverse of regularization strength\n",
        "    'penalty': ['l1', 'l2'],  # regularization types\n",
        "    'solver': ['liblinear'],\n",
        "    'max_iter': [500, 1000, 2000]  #iterations for convergence\n",
        "}\n",
        "\n",
        "log_reg = LogisticRegression(random_state=3101)\n",
        "\n",
        "\n",
        "grid_search = GridSearchCV(estimator=log_reg, param_grid=param_grid, cv=10, scoring='recall', verbose=1, n_jobs=-1)\n",
        "\n",
        "\n",
        "grid_search.fit(x_train, y_train)\n",
        "\n",
        "best_params = grid_search.best_params_\n",
        "best_score = grid_search.best_score_\n",
        "print(best_params)\n",
        "print(f\"Best cross-validation accuracy: {best_score:.4f}\")\n",
        "\n",
        "\n",
        "best_model = grid_search.best_estimator_\n",
        "y_pred = best_model.predict(x_test)\n",
        "\n",
        "\n",
        "accuracy = accuracy_score(y_test, y_pred)\n",
        "recall = recall_score(y_test, y_pred)\n",
        "f1 = f1_score(y_test, y_pred)\n",
        "\n",
        "\n",
        "\n",
        "print(accuracy)\n",
        "print(recall)\n",
        "print(f1)"
      ]
    },
    {
      "cell_type": "markdown",
      "metadata": {
        "id": "Oe85dUM6YoqC"
      },
      "source": [
        "# Log regression with SMOTE"
      ]
    },
    {
      "cell_type": "code",
      "execution_count": 16,
      "metadata": {
        "colab": {
          "base_uri": "https://localhost:8080/"
        },
        "id": "-fUGlsXLardg",
        "outputId": "b16f39bc-b579-4e86-e563-c962f8bbc43b"
      },
      "outputs": [
        {
          "name": "stdout",
          "output_type": "stream",
          "text": [
            "Fitting 10 folds for each of 36 candidates, totalling 360 fits\n",
            "{'C': 10, 'max_iter': 500, 'penalty': 'l1', 'solver': 'liblinear'}\n",
            "Best cross-validation accuracy: 0.5464\n",
            "0.794\n",
            "0.42857142857142855\n",
            "0.4535809018567639\n"
          ]
        }
      ],
      "source": [
        "smote = SMOTE(sampling_strategy=0.5, random_state=3101)\n",
        "x_resampled, y_resampled = smote.fit_resample(x_train, y_train)\n",
        "\n",
        "param_grid = {\n",
        "    'C': [0.001, 0.01, 0.1, 1, 10, 100],  # inverse of regularization strength\n",
        "    'penalty': ['l1', 'l2'],  # regularization types\n",
        "    'solver': ['liblinear'],  # solvers\n",
        "    'max_iter': [500, 1000, 2000]  #iterations for convergence\n",
        "}\n",
        "\n",
        "log_reg = LogisticRegression(random_state=3101)\n",
        "\n",
        "\n",
        "grid_search = GridSearchCV(estimator=log_reg, param_grid=param_grid, cv=10, scoring='recall', verbose=1, n_jobs=-1)\n",
        "\n",
        "\n",
        "grid_search.fit(x_resampled, y_resampled)\n",
        "\n",
        "\n",
        "best_params = grid_search.best_params_\n",
        "best_score = grid_search.best_score_\n",
        "print(best_params)\n",
        "print(f\"Best cross-validation accuracy: {best_score:.4f}\")\n",
        "\n",
        "\n",
        "best_model = grid_search.best_estimator_\n",
        "y_pred = best_model.predict(x_test)\n",
        "\n",
        "\n",
        "accuracy = accuracy_score(y_test, y_pred)\n",
        "recall = recall_score(y_test, y_pred)\n",
        "f1 = f1_score(y_test, y_pred)\n",
        "print(accuracy)\n",
        "print(recall)\n",
        "print(f1)"
      ]
    },
    {
      "cell_type": "markdown",
      "metadata": {
        "id": "Z-p5Q6fTYlWI"
      },
      "source": [
        "# Random forest"
      ]
    },
    {
      "cell_type": "code",
      "execution_count": null,
      "metadata": {
        "colab": {
          "base_uri": "https://localhost:8080/"
        },
        "id": "-8QoXqY7GqQK",
        "outputId": "8e45481b-370e-4462-d9d9-737f63f1908c"
      },
      "outputs": [
        {
          "name": "stdout",
          "output_type": "stream",
          "text": [
            "0.8365\n",
            "0.6741854636591479\n"
          ]
        }
      ],
      "source": [
        "rf = RandomForestClassifier(class_weight='balanced', random_state=3101)\n",
        "\n",
        "param_grid = {\n",
        "    'n_estimators': [50, 100, 200],  #number of trees\n",
        "    'max_depth': [None, 10, 20],  #tree depth\n",
        "    'min_samples_split': [2, 5, 10],  #min samples to split a node\n",
        "    'min_samples_leaf': [1, 2, 5]  #min samples per leaf\n",
        "}\n",
        "\n",
        "grid_search = GridSearchCV(rf, param_grid, cv=10, scoring='recall', n_jobs=-1)\n",
        "grid_search.fit(x_train, y_train)\n",
        "\n",
        "best_rf = grid_search.best_estimator_\n",
        "\n",
        "cv_scores = cross_val_score(best_rf, x_train, y_train, cv=10, scoring='recall')\n",
        "#print(cv_scores.mean())\n",
        "\n",
        "y_pred = best_rf.predict(x_test)\n",
        "\n",
        "accuracy = accuracy_score(y_test, y_pred)\n",
        "print(accuracy)\n",
        "recall = recall_score(y_test, y_pred)\n",
        "print(recall)\n"
      ]
    },
    {
      "cell_type": "markdown",
      "metadata": {
        "id": "RE8FZ4BOajLJ"
      },
      "source": [
        "# Random forest with SMOTE"
      ]
    },
    {
      "cell_type": "code",
      "execution_count": null,
      "metadata": {
        "colab": {
          "base_uri": "https://localhost:8080/"
        },
        "id": "WJcwG_56HKNv",
        "outputId": "d3ad8d67-bd94-4a25-a13c-1cd2e43dcb05"
      },
      "outputs": [
        {
          "name": "stdout",
          "output_type": "stream",
          "text": [
            "0.7495\n",
            "0.7819548872180451\n"
          ]
        }
      ],
      "source": [
        "smote = SMOTE(sampling_strategy=0.5, random_state=3101)\n",
        "x_resampled, y_resampled = smote.fit_resample(x_train, y_train)\n",
        "\n",
        "\n",
        "rf = RandomForestClassifier(class_weight={0:1, 1:4}, random_state=3101)\n",
        "\n",
        "param_grid = {\n",
        "    'n_estimators': [500, 700],  #number of trees\n",
        "    'max_depth': [10, 20],  #tree depth\n",
        "    'min_samples_split': [10, 15],  #min samples to split a node\n",
        "    'min_samples_leaf': [1, 2, 5],  #min samples per leaf\n",
        "    'bootstrap': [True, False]\n",
        "}\n",
        "\n",
        "grid_search = GridSearchCV(rf, param_grid, cv=10, scoring='recall', n_jobs=-1)\n",
        "grid_search.fit(x_resampled, y_resampled)\n",
        "\n",
        "best_rf = grid_search.best_estimator_\n",
        "\n",
        "cv_scores = cross_val_score(best_rf, x_resampled, y_resampled, cv=10, scoring='recall')\n",
        "#print(cv_scores.mean())\n",
        "\n",
        "y_pred = best_rf.predict(x_test)\n",
        "\n",
        "accuracy = accuracy_score(y_test, y_pred)\n",
        "print(accuracy)\n",
        "recall = recall_score(y_test, y_pred)\n",
        "print(recall)"
      ]
    },
    {
      "cell_type": "markdown",
      "metadata": {
        "id": "VHGxIph1bJ-D"
      },
      "source": [
        "# Most important features"
      ]
    },
    {
      "cell_type": "code",
      "execution_count": null,
      "metadata": {
        "colab": {
          "base_uri": "https://localhost:8080/"
        },
        "id": "EuR7LuNyh4EN",
        "outputId": "633c822f-eb14-4c4f-8187-d5bd6be8f322"
      },
      "outputs": [
        {
          "name": "stdout",
          "output_type": "stream",
          "text": [
            "{'bootstrap': False, 'max_depth': 10, 'min_samples_leaf': 5, 'min_samples_split': 15, 'n_estimators': 700}\n",
            "              Feature  Importance\n",
            "1                 Age    0.314612\n",
            "4       NumOfProducts    0.196255\n",
            "6      IsActiveMember    0.131309\n",
            "3             Balance    0.114633\n",
            "8   Geography_Germany    0.072872\n",
            "7     EstimatedSalary    0.053858\n",
            "0         CreditScore    0.046049\n",
            "2              Tenure    0.033580\n",
            "9     Geography_Spain    0.013899\n",
            "5           HasCrCard    0.012520\n",
            "10        Gender_Male    0.010414\n"
          ]
        }
      ],
      "source": [
        "print(grid_search.best_params_)\n",
        "importances = best_rf.feature_importances_\n",
        "features = x_resampled.columns\n",
        "feature_importances = pd.DataFrame({\"Feature\": features, \"Importance\": importances})\n",
        "print(feature_importances.sort_values(by=\"Importance\", ascending=False))\n"
      ]
    },
    {
      "cell_type": "code",
      "execution_count": 3,
      "metadata": {
        "id": "WybPTcIj4aiL"
      },
      "outputs": [],
      "source": [
        "# Define a function to add interaction features to any dataset\n",
        "def create_interaction_features(df):\n",
        "    df['Age_Balance'] = df['Age'] * df['Balance']\n",
        "    df['Age_NumOfProducts'] = df['Age'] * df['NumOfProducts']\n",
        "    df['Age_IsActiveMember'] = df['Age'] * df['IsActiveMember']\n",
        "    df['Balance_NumOfProducts'] = df['Balance'] * df['NumOfProducts']\n",
        "    df['Balance_IsActiveMember'] = df['Balance'] * df['IsActiveMember']\n",
        "    df['NumOfProducts_IsActiveMember'] = df['NumOfProducts'] * df['IsActiveMember']\n",
        "    return df\n",
        "\n",
        "# Create interaction features for both the training and test data\n",
        "x_train = create_interaction_features(x_train)\n",
        "x_test = create_interaction_features(x_test)\n",
        "\n",
        "\n",
        "# Now, apply SMOTE to the training data (x_train)\n",
        "smote = SMOTE(sampling_strategy=0.5, random_state=3101)\n",
        "x_resampled, y_resampled = smote.fit_resample(x_train, y_train)\n",
        "\n",
        "\n"
      ]
    },
    {
      "cell_type": "markdown",
      "metadata": {
        "id": "MtZSRv6rbQZN"
      },
      "source": [
        "# Random forest with interaction terms"
      ]
    },
    {
      "cell_type": "code",
      "execution_count": 4,
      "metadata": {
        "colab": {
          "base_uri": "https://localhost:8080/"
        },
        "id": "zq1GU45b9MFc",
        "outputId": "06f82f88-3226-43ce-c149-d7cf40d21940"
      },
      "outputs": [
        {
          "name": "stdout",
          "output_type": "stream",
          "text": [
            "Accuracy: 0.7415\n",
            "Recall: 0.8095238095238095\n",
            "Best Parameters: {'bootstrap': False, 'max_depth': 10, 'min_samples_leaf': 5, 'min_samples_split': 15, 'n_estimators': 1000}\n",
            "Precision: 0.42277486910994766\n",
            "F1-Score: 0.5554600171969045\n"
          ]
        }
      ],
      "source": [
        "# Initialize the RandomForest model\n",
        "rf = RandomForestClassifier(class_weight={0:1, 1:5}, random_state=3101)\n",
        "\n",
        "# Set up the parameter grid for grid search\n",
        "param_grid = {\n",
        "    'n_estimators': [700, 1000],\n",
        "    'max_depth': [5, 10],\n",
        "    'min_samples_split': [10, 15],\n",
        "    'min_samples_leaf': [2, 5],\n",
        "    'bootstrap': [True, False]\n",
        "}\n",
        "\n",
        "# Perform Grid Search with cross-validation\n",
        "grid_search = GridSearchCV(rf, param_grid, cv=10, scoring='recall', n_jobs=-1)\n",
        "\n",
        "grid_search.fit(x_resampled, y_resampled)\n",
        "\n",
        "# Best model from grid search\n",
        "best_rf = grid_search.best_estimator_\n",
        "\n",
        "# Evaluate the model on the test set\n",
        "y_pred = best_rf.predict(x_test)\n",
        "\n",
        "accuracy = accuracy_score(y_test, y_pred)\n",
        "print(\"Accuracy:\", accuracy)\n",
        "recall = recall_score(y_test, y_pred)\n",
        "print(\"Recall:\", recall)\n",
        "\n",
        "# Print the best parameters found by the grid search\n",
        "print(\"Best Parameters:\", grid_search.best_params_)\n",
        "\n",
        "\n",
        "precision = precision_score(y_test, y_pred)\n",
        "f1 = f1_score(y_test, y_pred)\n",
        "\n",
        "print(\"Precision:\", precision)\n",
        "print(\"F1-Score:\", f1)\n",
        "\n",
        "\n"
      ]
    },
    {
      "cell_type": "code",
      "execution_count": 5,
      "metadata": {
        "colab": {
          "base_uri": "https://localhost:8080/"
        },
        "id": "p-oAbgTB8n_E",
        "outputId": "4240072f-e842-4c8d-ce42-0fb3b8c27a7d"
      },
      "outputs": [
        {
          "name": "stdout",
          "output_type": "stream",
          "text": [
            "                         Feature  Importance\n",
            "1                            Age    0.185405\n",
            "12             Age_NumOfProducts    0.145824\n",
            "4                  NumOfProducts    0.120734\n",
            "11                   Age_Balance    0.081033\n",
            "16  NumOfProducts_IsActiveMember    0.077977\n",
            "8              Geography_Germany    0.062555\n",
            "13            Age_IsActiveMember    0.056956\n",
            "14         Balance_NumOfProducts    0.054286\n",
            "3                        Balance    0.046738\n",
            "6                 IsActiveMember    0.033626\n",
            "7                EstimatedSalary    0.031782\n",
            "0                    CreditScore    0.029307\n",
            "15        Balance_IsActiveMember    0.028210\n",
            "2                         Tenure    0.023254\n",
            "5                      HasCrCard    0.008884\n",
            "9                Geography_Spain    0.007648\n",
            "10                   Gender_Male    0.005781\n"
          ]
        }
      ],
      "source": [
        "feature_importance = best_rf.feature_importances_\n",
        "features = x_train.columns\n",
        "importance_df = pd.DataFrame({'Feature': features, 'Importance': feature_importance})\n",
        "importance_df = importance_df.sort_values(by='Importance', ascending=False)\n",
        "print(importance_df)"
      ]
    },
    {
      "cell_type": "markdown",
      "metadata": {
        "id": "hwBoNb-abYbe"
      },
      "source": [
        "# Getting key insights"
      ]
    },
    {
      "cell_type": "code",
      "execution_count": 7,
      "metadata": {
        "colab": {
          "base_uri": "https://localhost:8080/"
        },
        "id": "EeQ51rzL5rQO",
        "outputId": "9494d0e7-0331-47a9-b372-ca5df85b6f19"
      },
      "outputs": [
        {
          "name": "stdout",
          "output_type": "stream",
          "text": [
            "\n",
            "Churn Rate for Age > 37.0: 32.06%\n",
            "Churn Rate for Age <= 37.0: 9.08%\n",
            "\n",
            "Churn Rate for NumOfProducts > 1.0: 12.77%\n",
            "Churn Rate for NumOfProducts <= 1.0: 27.71%\n"
          ]
        }
      ],
      "source": [
        "def churn_rate_comparison(df, feature, threshold=None, binary=False):\n",
        "    if binary:\n",
        "        group_1 = df[df[feature] == 1]\n",
        "        group_0 = df[df[feature] == 0]\n",
        "    else:\n",
        "        threshold = df[feature].median() if threshold is None else threshold\n",
        "        group_1 = df[df[feature] > threshold]\n",
        "        group_0 = df[df[feature] <= threshold]\n",
        "\n",
        "    churn_rate_1 = group_1['Exited'].mean()\n",
        "    churn_rate_0 = group_0['Exited'].mean()\n",
        "\n",
        "    print(f\"\\nChurn Rate for {feature} > {threshold}: {churn_rate_1:.2%}\")\n",
        "    print(f\"Churn Rate for {feature} <= {threshold}: {churn_rate_0:.2%}\")\n",
        "\n",
        "\n",
        "churn_rate_comparison(df, 'Age')\n",
        "churn_rate_comparison(df, 'NumOfProducts')\n"
      ]
    },
    {
      "cell_type": "markdown",
      "metadata": {
        "id": "n0C9O1Y364OD"
      },
      "source": [
        "Older customers were more likely to churn <br>\n",
        "Customers with more than 1 product is less likely to churn"
      ]
    },
    {
      "cell_type": "markdown",
      "metadata": {
        "id": "jpxXDX8QvsCg"
      },
      "source": [
        "# production ready"
      ]
    },
    {
      "cell_type": "code",
      "execution_count": null,
      "metadata": {
        "id": "AGbWDUlHvrXr"
      },
      "outputs": [],
      "source": [
        "import joblib\n",
        "joblib.dump(best_rf, 'churn_prediction_model.pkl')\n",
        "\n",
        "\n",
        "best_rf = joblib.load('churn_prediction_model.pkl')\n"
      ]
    }
  ],
  "metadata": {
    "accelerator": "GPU",
    "colab": {
      "gpuType": "T4",
      "provenance": []
    },
    "kernelspec": {
      "display_name": "Python 3",
      "name": "python3"
    },
    "language_info": {
      "name": "python"
    }
  },
  "nbformat": 4,
  "nbformat_minor": 0
}
